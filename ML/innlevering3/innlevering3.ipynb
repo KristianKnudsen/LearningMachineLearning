{
 "cells": [
  {
   "cell_type": "raw",
   "metadata": {},
   "source": [
    "1: Filen \"Personer.dta\" skal leses inn i en list persons. Filen inneholder 100 000 rader med fiktive personalia på formatet \"etternavn;fornavn;adresse;postnummer;poststed\". Dette skal gjøres i native Python, dvs. Numpy/Pandas eller andre libs skal ikke brukes. Legg hver rad inn i en passende datastruktur, feks. tuple, dict, list eller namedtuple. Skriv så ut de 5 siste radene i en celle."
   ]
  },
  {
   "cell_type": "code",
   "execution_count": 1,
   "metadata": {},
   "outputs": [],
   "source": [
    "class Person():\n",
    "    def __init__(self, etternavn, fornavn, adresse, postnummer, poststed):\n",
    "        self.etternavn = etternavn\n",
    "        self.fornavn = fornavn\n",
    "        self.adresse = adresse\n",
    "        self.postnummer = postnummer\n",
    "        self.poststed = poststed\n",
    "        \n",
    "    def __str__(self):\n",
    "        return f\"{self.etternavn};{self.fornavn};{self.adresse};{self.postnummer};{self.poststed}\""
   ]
  },
  {
   "cell_type": "code",
   "execution_count": 2,
   "metadata": {},
   "outputs": [
    {
     "name": "stdout",
     "output_type": "stream",
     "text": [
      "STORLIEN;HANS-MAGNUS;TALLSLETTA 57;3849;VRÅLIOSEN\n",
      "ASAIPPILLAI;JO GUDBRAND;BERGERUD 68;4371;EGERSUND\n",
      "TOLLEFSEN;ZULFIQAR ALI;EIRIK JARLS GATE 79;1305;HASLUM\n",
      "ELI;KNUT OLAF;RUSTAD S 14;9775;GAMVIK\n",
      "NYRUD;ERIK NORØ;GJERDHAUGVEGEN 3;6512;KRISTIANSUND N\n"
     ]
    }
   ],
   "source": [
    "persons = []\n",
    "with open(\"Personer.dta\") as file:\n",
    "    for line in file:\n",
    "        a = line.strip().split(\";\")\n",
    "        persons.append(Person(*a))\n",
    "\n",
    "for x in persons[-5:]:\n",
    "    print(x)"
   ]
  },
  {
   "cell_type": "raw",
   "metadata": {},
   "source": [
    "2: Hvor mange unike postnummer finnes i \"Personer.dta\"?"
   ]
  },
  {
   "cell_type": "code",
   "execution_count": 3,
   "metadata": {},
   "outputs": [
    {
     "data": {
      "text/plain": [
       "2824"
      ]
     },
     "execution_count": 3,
     "metadata": {},
     "output_type": "execute_result"
    }
   ],
   "source": [
    "len(set([x.postnummer for x in persons]))"
   ]
  },
  {
   "cell_type": "raw",
   "metadata": {},
   "source": [
    "3: Hva er de 10 vanligste etternavnene (som forekommer flest ganger) i \"Personer.dta\"?"
   ]
  },
  {
   "cell_type": "code",
   "execution_count": 53,
   "metadata": {},
   "outputs": [
    {
     "name": "stdout",
     "output_type": "stream",
     "text": [
      "{'ÅSBAKK': 82, 'BERGERSEN': 77, 'DANIELSEN': 76, 'LUTHER': 76, 'TRANE': 76, 'LUNDBERGSEN': 76, 'MJØEN': 75, 'LAM': 74, 'KRANGSÅS': 74, 'IGLAND': 74}\n",
      "49.8 ms ± 0 ns per loop (mean ± std. dev. of 1 run, 1 loop each)\n"
     ]
    }
   ],
   "source": [
    "%%timeit -r 1 -n 1\n",
    "#Takes a list and counts number of appearances in form of a dictonary. Key=element Value=appearances\n",
    "def appearances_in_list(list) -> dict:\n",
    "    appearances = dict()\n",
    "    for x in list:\n",
    "        try:\n",
    "            appearances[x] += 1\n",
    "        except:\n",
    "            appearances[x] = 0\n",
    "    return appearances\n",
    "    \n",
    "#Baiscally selection sort if n=len(dict)\n",
    "def n_biggest_keys(dict, n=1) -> dict:\n",
    "    if n < 1:\n",
    "        return {}\n",
    "    else:\n",
    "        biggest = max_dict(dict)\n",
    "        k = dict.pop(biggest)\n",
    "        n -= 1\n",
    "        r = {biggest: k}\n",
    "        r.update(n_biggest_keys(dict, n))\n",
    "        return r\n",
    "\n",
    "#Finds the largest value from the dictonary and returns the key of said value. \n",
    "def max_dict(dict) -> str:\n",
    "    biggest = list(dict)[0] #Or next(iter(dict))\n",
    "    for x in dict:\n",
    "        if dict.get(x) > dict.get(biggest):\n",
    "            biggest = x\n",
    "    return biggest\n",
    "\n",
    "#finds n most common class attributes in a list and returns a list containing sorted dictonaries.\n",
    "#Entering -1 for n returns the whole dictornary sorted.\n",
    "def mcail(list, attribute, n) -> list:\n",
    "    list_of_attributes = [getattr(x,attribute) for x in list]\n",
    "    apps = appearances_in_list(list_of_attributes)\n",
    "    if n < 0:\n",
    "        n = len(apps)\n",
    "    return n_biggest_keys(apps, n)\n",
    "\n",
    "tmcl = mcail(persons, \"etternavn\", 10) \n",
    "print(tmcl)"
   ]
  },
  {
   "cell_type": "code",
   "execution_count": 5,
   "metadata": {},
   "outputs": [
    {
     "name": "stdout",
     "output_type": "stream",
     "text": [
      "['ÅSBAKK', 'BERGERSEN', 'DANIELSEN', 'LUTHER', 'TRANE', 'LUNDBERGSEN', 'MJØEN', 'LAM', 'KRANGSÅS', 'IGLAND']\n",
      "580 ms ± 0 ns per loop (mean ± std. dev. of 1 run, 1 loop each)\n"
     ]
    }
   ],
   "source": [
    "%%timeit -r 1 -n 1\n",
    "#Uses dictonaries same as the first version, but less code and abit slower.\n",
    "etternavn2 = [x.etternavn for x in persons]\n",
    "#Method taken from https://www.geeksforgeeks.org/python-find-most-frequent-element-in-a-list/\n",
    "def most_frequent(List):\n",
    "    dict = {}\n",
    "    count, itm = 0, ''\n",
    "    for item in reversed(List):\n",
    "        dict[item] = dict.get(item, 0) + 1\n",
    "        if dict[item] >= count :\n",
    "            count, itm = dict[item], item\n",
    "    return(itm)\n",
    "\n",
    "def n_most_common2(lst, n):\n",
    "    top_n = []\n",
    "    counter=0\n",
    "    while counter < n:\n",
    "        mf = most_frequent(lst)\n",
    "        top_n.append(mf)\n",
    "        list(filter((top_n[counter]).__ne__, lst))\n",
    "        lst = [x for x in lst if x != top_n[counter]]\n",
    "        counter+=1\n",
    "        \n",
    "    return top_n\n",
    "print(n_most_common2(etternavn2, 10))"
   ]
  },
  {
   "cell_type": "code",
   "execution_count": 6,
   "metadata": {},
   "outputs": [
    {
     "name": "stdout",
     "output_type": "stream",
     "text": [
      "['ÅSBAKK', 'BERGERSEN', 'TRANE', 'LUNDBERGSEN', 'DANIELSEN', 'LUTHER', 'MJØEN', 'LAM', 'KRANGSÅS', 'IGLAND']\n",
      "1min 3s ± 0 ns per loop (mean ± std. dev. of 1 run, 1 loop each)\n"
     ]
    }
   ],
   "source": [
    "%%timeit -r 1 -n 1\n",
    "#Slow but compact way of doing the same as the cell above.\n",
    "#extremely slow for some reason.\n",
    "etternavn = [x.etternavn for x in persons]\n",
    "def n_most_common(lst, n):\n",
    "    top_n = []\n",
    "    counter=0\n",
    "    while counter < n:\n",
    "        top_n.append(max(set(lst), key=lst.count))\n",
    "        list(filter((top_n[counter]).__ne__, lst))\n",
    "        lst = [x for x in lst if x != top_n[counter]]\n",
    "        counter+=1\n",
    "        \n",
    "    return top_n\n",
    "#The last names with the same values may not be in the same order as the one above.\n",
    "print(n_most_common(etternavn, 10))\n",
    "#Additionally this one does not show number of appearances."
   ]
  },
  {
   "cell_type": "raw",
   "metadata": {},
   "source": [
    "4: Implementer sorteringsalgoritmen Heap Sort og sorter listen \"persons\" utfra rekkefølgen radene er lest inn i. Ferdig implementerte funksjoner som sorted skal ikke benyttes. Skriv så ut indexene [0,20000,40000,60000,80000] fra den sorterte listen."
   ]
  },
  {
   "cell_type": "code",
   "execution_count": 7,
   "metadata": {},
   "outputs": [],
   "source": [
    "#kode her"
   ]
  }
 ],
 "metadata": {
  "kernelspec": {
   "display_name": "Python 3 (ipykernel)",
   "language": "python",
   "name": "python3"
  },
  "language_info": {
   "codemirror_mode": {
    "name": "ipython",
    "version": 3
   },
   "file_extension": ".py",
   "mimetype": "text/x-python",
   "name": "python",
   "nbconvert_exporter": "python",
   "pygments_lexer": "ipython3",
   "version": "3.9.5"
  }
 },
 "nbformat": 4,
 "nbformat_minor": 4
}
