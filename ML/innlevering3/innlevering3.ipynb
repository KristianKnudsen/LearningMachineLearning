{
 "cells": [
  {
   "cell_type": "raw",
   "metadata": {},
   "source": [
    "1: Filen \"Personer.dta\" skal leses inn i en list persons. Filen inneholder 100 000 rader med fiktive personalia på formatet \"etternavn;fornavn;adresse;postnummer;poststed\". Dette skal gjøres i native Python, dvs. Numpy/Pandas eller andre libs skal ikke brukes. Legg hver rad inn i en passende datastruktur, feks. tuple, dict, list eller namedtuple. Skriv så ut de 5 siste radene i en celle."
   ]
  },
  {
   "cell_type": "code",
   "execution_count": 1,
   "metadata": {},
   "outputs": [],
   "source": [
    "class Person():\n",
    "    def __init__(self, etternavn, fornavn, adresse, postnummer, poststed):\n",
    "        self.etternavn = etternavn\n",
    "        self.fornavn = fornavn\n",
    "        self.adresse = adresse\n",
    "        self.postnummer = postnummer\n",
    "        self.poststed = poststed\n",
    "        \n",
    "    def __lt__ (self, other):\n",
    "        this = self.etternavn + self.fornavn\n",
    "        other = other.etternavn + other.fornavn\n",
    "        return this < other\n",
    "\n",
    "    def __gt__ (self, other):\n",
    "        this = self.etternavn + self.fornavn\n",
    "        other = other.etternavn + other.fornavn\n",
    "        return this > other\n",
    "\n",
    "    def __eq__ (self, other):\n",
    "        this = self.etternavn + self.fornavn\n",
    "        other = other.etternavn + other.fornavn\n",
    "        return this == other\n",
    "        \n",
    "    def __str__(self):\n",
    "        return f\"{self.etternavn};{self.fornavn};{self.adresse};{self.postnummer};{self.poststed}\"\n",
    "    "
   ]
  },
  {
   "cell_type": "code",
   "execution_count": 2,
   "metadata": {},
   "outputs": [
    {
     "name": "stdout",
     "output_type": "stream",
     "text": [
      "STORLIEN;HANS-MAGNUS;TALLSLETTA 57;3849;VRÅLIOSEN\n",
      "ASAIPPILLAI;JO GUDBRAND;BERGERUD 68;4371;EGERSUND\n",
      "TOLLEFSEN;ZULFIQAR ALI;EIRIK JARLS GATE 79;1305;HASLUM\n",
      "ELI;KNUT OLAF;RUSTAD S 14;9775;GAMVIK\n",
      "NYRUD;ERIK NORØ;GJERDHAUGVEGEN 3;6512;KRISTIANSUND N\n"
     ]
    }
   ],
   "source": [
    "persons = []\n",
    "with open(\"Personer.dta\") as file:\n",
    "    for line in file:\n",
    "        a = line.strip().split(\";\")\n",
    "        persons.append(Person(*a))\n",
    "\n",
    "for x in persons[-5:]:\n",
    "    print(x)"
   ]
  },
  {
   "cell_type": "raw",
   "metadata": {},
   "source": [
    "2: Hvor mange unike postnummer finnes i \"Personer.dta\"?"
   ]
  },
  {
   "cell_type": "code",
   "execution_count": 3,
   "metadata": {},
   "outputs": [
    {
     "data": {
      "text/plain": [
       "2824"
      ]
     },
     "execution_count": 3,
     "metadata": {},
     "output_type": "execute_result"
    }
   ],
   "source": [
    "len(set([x.postnummer for x in persons]))"
   ]
  },
  {
   "cell_type": "raw",
   "metadata": {},
   "source": [
    "3: Hva er de 10 vanligste etternavnene (som forekommer flest ganger) i \"Personer.dta\"?"
   ]
  },
  {
   "cell_type": "code",
   "execution_count": 4,
   "metadata": {},
   "outputs": [
    {
     "name": "stdout",
     "output_type": "stream",
     "text": [
      "1. ÅSBAKK 82\n",
      "2. BERGERSEN 77\n",
      "3. DANIELSEN 76\n",
      "4. LUTHER 76\n",
      "5. TRANE 76\n",
      "6. LUNDBERGSEN 76\n",
      "7. MJØEN 75\n",
      "8. LAM 74\n",
      "9. KRANGSÅS 74\n",
      "10. IGLAND 74\n",
      "48.2 ms ± 0 ns per loop (mean ± std. dev. of 1 run, 1 loop each)\n"
     ]
    }
   ],
   "source": [
    "%%timeit -r 1 -n 1\n",
    "#Takes a list and counts number of appearances in form of a dictonary. Key=element Value=appearances\n",
    "def appearances_in_list(lst: list) -> dict:\n",
    "    appearances = dict()\n",
    "    for x in lst:\n",
    "        try:\n",
    "            appearances[x] += 1\n",
    "        except:\n",
    "            appearances[x] = 0\n",
    "    return appearances\n",
    "    \n",
    "#Baiscally selection sort if n=len(dict)\n",
    "def n_biggest_keys(dct: dict, n: int = 1) -> dict:\n",
    "    if n < 1:\n",
    "        return {}\n",
    "    else:\n",
    "        biggest = max_dict(dct)\n",
    "        k = dct.pop(biggest)\n",
    "        n -= 1\n",
    "        r = {biggest: k}\n",
    "        r.update(n_biggest_keys(dct, n))\n",
    "        return r\n",
    "\n",
    "#Finds the largest value from the dictonary and returns the key of said value. \n",
    "def max_dict(dct: dict) -> str:\n",
    "    biggest = next(iter(dct))\n",
    "    for x in dct:\n",
    "        if dct.get(x) > dct.get(biggest):\n",
    "            biggest = x\n",
    "    return biggest\n",
    "\n",
    "#finds n most common class attributes in a list and returns a list containing sorted dictonaries.\n",
    "#Entering -1 for n returns the whole dictornary sorted.\n",
    "def mcail(lst: list, attribute: str, n: int) -> list:\n",
    "    list_of_attributes = [getattr(x, attribute) for x in lst]\n",
    "    apps = appearances_in_list(list_of_attributes)\n",
    "    if n < 0:\n",
    "        n = len(apps)\n",
    "    return n_biggest_keys(apps, n)\n",
    "\n",
    "tmcl = mcail(persons, \"etternavn\", 10) \n",
    "for i, k in enumerate(tmcl.items()):\n",
    "    print(f\"{i+1}. {k[0]} {k[1]}\")"
   ]
  },
  {
   "cell_type": "code",
   "execution_count": 5,
   "metadata": {},
   "outputs": [
    {
     "name": "stdout",
     "output_type": "stream",
     "text": [
      "['ÅSBAKK', 'BERGERSEN', 'DANIELSEN', 'LUTHER', 'TRANE', 'LUNDBERGSEN', 'MJØEN', 'LAM', 'KRANGSÅS', 'IGLAND']\n",
      "528 ms ± 0 ns per loop (mean ± std. dev. of 1 run, 1 loop each)\n"
     ]
    }
   ],
   "source": [
    "%%timeit -r 1 -n 1\n",
    "#alternative 1\n",
    "etternavn2 = [x.etternavn for x in persons]\n",
    "#Method taken from https://www.geeksforgeeks.org/python-find-most-frequent-element-in-a-list/\n",
    "def most_frequent(List):\n",
    "    dict = {}\n",
    "    count, itm = 0, ''\n",
    "    for item in reversed(List):\n",
    "        dict[item] = dict.get(item, 0) + 1\n",
    "        if dict[item] >= count :\n",
    "            count, itm = dict[item], item\n",
    "    return(itm)\n",
    "\n",
    "def n_most_common2(lst, n):\n",
    "    top_n = []\n",
    "    counter=0\n",
    "    while counter < n:\n",
    "        mf = most_frequent(lst)\n",
    "        top_n.append(mf)\n",
    "        list(filter((top_n[counter]).__ne__, lst))\n",
    "        lst = [x for x in lst if x != top_n[counter]]\n",
    "        counter+=1\n",
    "        \n",
    "    return top_n\n",
    "print(n_most_common2(etternavn2, 10))"
   ]
  },
  {
   "cell_type": "code",
   "execution_count": 6,
   "metadata": {},
   "outputs": [
    {
     "name": "stdout",
     "output_type": "stream",
     "text": [
      "Couldn't find program: 'false'\n"
     ]
    }
   ],
   "source": [
    "%%script false \n",
    "#alternative 2\n",
    "#extremely slow for some reason and therefore disabled.\n",
    "etternavn = [x.etternavn for x in persons]\n",
    "def n_most_common(lst, n):\n",
    "    top_n = []\n",
    "    counter=0\n",
    "    while counter < n:\n",
    "        top_n.append(max(set(lst), key=lst.count))\n",
    "        list(filter((top_n[counter]).__ne__, lst))\n",
    "        lst = [x for x in lst if x != top_n[counter]]\n",
    "        counter+=1\n",
    "        \n",
    "    return top_n\n",
    "#The last names with the same values may not be in the same order as the one above.\n",
    "print(n_most_common(etternavn, 10))"
   ]
  },
  {
   "cell_type": "raw",
   "metadata": {},
   "source": [
    "4: Implementer sorteringsalgoritmen Heap Sort og sorter listen \"persons\" utfra rekkefølgen radene er lest inn i. Ferdig implementerte funksjoner som sorted skal ikke benyttes. Skriv så ut indexene [0,20000,40000,60000,80000] fra den sorterte listen."
   ]
  },
  {
   "cell_type": "raw",
   "metadata": {},
   "source": [
    "Since my \"persons\" list is filled with objects I had to create my own comparison methods to be able to sort it. It will be sorted alphabetically based on lastname then firstname. The other attributes will be ignored.\n",
    "\n",
    "The two cells below have different ways of creating the heap. One uses the insertion method while the other uses heapify. In theory the insertion method should be O(nlog(n)) while the Heapify should be O(n). However since the remove algorithms time complexity is O(nlog(n)) this will result in the whole operation to be O(nlog(n)) too.  "
   ]
  },
  {
   "cell_type": "code",
   "execution_count": 7,
   "metadata": {},
   "outputs": [
    {
     "name": "stdout",
     "output_type": "stream",
     "text": [
      "[0, 1, 1, 1, 2, 2, 4, 4, 5, 6, 6, 6, 7, 8, 8, 9, 9, 9, 9, 11, 12, 12, 13, 15, 15, 17, 18, 18, 18, 20]\n",
      "AAKVIK;ANETTE;BAKLIEN 11;1360;NESBRU\n",
      "ENGVOLL;TORE REIDAR;DAGALIVEIEN 11;3623;LAMPELAND\n",
      "JERMOSEN;ÅGE RAYMOND;HATLEBAKKANE 6;5236;RÅDAL\n",
      "MYRLUND;GAUTE;DYNESTØL 89;7494;SINGSÅS\n",
      "SMITH;ARNT OLE;SAPPEN 39;5852;BERGEN\n",
      "3.11 s ± 0 ns per loop (mean ± std. dev. of 1 run, 1 loop each)\n"
     ]
    }
   ],
   "source": [
    "%%timeit -r 1 -n 1\n",
    "def heap_sort(lst: list) -> list:\n",
    "    heap_size = 1\n",
    "    l = len(lst)\n",
    "    while heap_size < l:\n",
    "        add_to_heap(lst, heap_size)\n",
    "        heap_size += 1\n",
    "    while heap_size > 0:\n",
    "        remove_from_heap(lst, heap_size-1)\n",
    "        heap_size -= 1\n",
    "    return lst    \n",
    "\n",
    "#In a list..\n",
    "def swap_elements(lst: list, i: int, j: int) -> list:\n",
    "    lst[i], lst[j] = lst[j], lst[i]\n",
    "    return lst\n",
    "\n",
    "#presumes that the list before index i is a complete max heap.\n",
    "#Adds the index to the heap and makes sure it retains the properties of a heap.\n",
    "def add_to_heap(heap: list, i: int) -> list:\n",
    "    parent = int((i-1)/2)\n",
    "    if i < 1 or heap[i] < heap[parent]:\n",
    "        return heap\n",
    "    else:\n",
    "        swap_elements(heap, i, parent)\n",
    "        return add_to_heap(heap, parent)\n",
    "    \n",
    "#Always removes the top element and puts it after the heap.\n",
    "#Then calls heapify_index to recreate a maxheap\n",
    "#The last variable refers to the index of the last element in the heap.\n",
    "def remove_from_heap(heap: list, last: int) -> list:\n",
    "    swap_elements(heap, 0, last)\n",
    "    heapify_index(heap, last-1, 0)\n",
    "    return heap\n",
    "    \n",
    "#Takes the index of an element in a binary tree and checks if its children are bigger.\n",
    "#If one of them are it swaps places with the bigger element.\n",
    "#Then recursively checks its chieldren again.\n",
    "def heapify_index(heap: list, last: int, i: int) -> list:\n",
    "    firstborn = 2*i+1 #1\n",
    "    secondborn = firstborn+1 #2\n",
    "    if firstborn > last: \n",
    "        return heap\n",
    "    elif secondborn > last:\n",
    "        if heap[firstborn] > heap[i]:\n",
    "            swap_elements(heap, i, firstborn)\n",
    "        return heap\n",
    "    else:\n",
    "        bigger_element = secondborn if heap[firstborn] < heap[secondborn] else firstborn\n",
    "        if heap[bigger_element] > heap[i]:\n",
    "            swap_elements(heap, i, bigger_element)\n",
    "            return heapify_index(heap, last, bigger_element)\n",
    "        else:\n",
    "            return heap\n",
    "#could be used to create a heap? \n",
    "\n",
    "intlist = []\n",
    "import random\n",
    "for x in range(0, 30):\n",
    "    intlist.append(random.randint(0,20))\n",
    "heap_sort(intlist)\n",
    "print(intlist)\n",
    "    \n",
    "heap_sort(persons)\n",
    "for x in persons[::20000]:\n",
    "    print(x)"
   ]
  },
  {
   "cell_type": "code",
   "execution_count": 8,
   "metadata": {},
   "outputs": [
    {
     "name": "stdout",
     "output_type": "stream",
     "text": [
      "[1, 2, 3, 3, 4, 4, 4, 5, 7, 7, 8, 8, 9, 10, 10, 11, 11, 11, 12, 13, 13, 14, 14, 14, 15, 18, 18, 18, 19, 20]\n",
      "AAKVIK;ANETTE;BAKLIEN 11;1360;NESBRU\n",
      "ENGVOLL;TORE REIDAR;DAGALIVEIEN 11;3623;LAMPELAND\n",
      "JERMOSEN;ÅGE RAYMOND;HATLEBAKKANE 6;5236;RÅDAL\n",
      "MYRLUND;GAUTE;DYNESTØL 89;7494;SINGSÅS\n",
      "SMITH;ARNT OLE;SAPPEN 39;5852;BERGEN\n",
      "2.81 s ± 0 ns per loop (mean ± std. dev. of 1 run, 1 loop each)\n"
     ]
    }
   ],
   "source": [
    "%%timeit -r 1 -n 1\n",
    "#Second attempt\n",
    "def se(lst: list, i: int, j: int) -> list:\n",
    "    lst[i], lst[j] = lst[j], lst[i]\n",
    "    return lst\n",
    "\n",
    "#Does the same as the \"heapify_index\" from the cell above.\n",
    "def heapify(heap: list, last: int, i: int) -> list:\n",
    "    f = 2*i+1 #1\n",
    "    s = f+1 #2\n",
    "    if f > last:\n",
    "        return heap\n",
    "    if s > last:\n",
    "        if heap[f] > heap[i]:\n",
    "            se(heap, f, i)\n",
    "        return heap\n",
    "    m = s if heap[f] < heap[s] else f\n",
    "    if heap[m] > heap[i]:\n",
    "        se(heap, m, i)\n",
    "        return heapify(heap, last, m)\n",
    "    return heap\n",
    "\n",
    "#This time around the plan is to use the heapify method to create the max heap.\n",
    "#To achieve this we need to use it from the bottom up\n",
    "def heap_sort(lst: list) -> list:\n",
    "    l = len(lst)-1\n",
    "    #We can start from the 2nd to last layer. \n",
    "    #This finds the parent element of the last element\n",
    "    s = int((l-1)/2)\n",
    "    #Heapifies every element before the parent of the last element.\n",
    "    while s >= 0:\n",
    "        heapify(lst, l, s)\n",
    "        s -= 1\n",
    "    #Swapps the first and last then heapifys the first elements till the new last element.\n",
    "    #Similar to the cell above\n",
    "    while l > 0:\n",
    "        se(lst, 0, l)\n",
    "        heapify(lst, l-1, 0)\n",
    "        l -= 1\n",
    "    return lst\n",
    "        \n",
    "intlist = []\n",
    "import random\n",
    "for x in range(0, 30):\n",
    "    intlist.append(random.randint(0,20))\n",
    "heap_sort(intlist)\n",
    "print(intlist)\n",
    "    \n",
    "heap_sort(persons)\n",
    "for x in persons[::20000]:\n",
    "    print(x)"
   ]
  }
 ],
 "metadata": {
  "kernelspec": {
   "display_name": "Python 3 (ipykernel)",
   "language": "python",
   "name": "python3"
  },
  "language_info": {
   "codemirror_mode": {
    "name": "ipython",
    "version": 3
   },
   "file_extension": ".py",
   "mimetype": "text/x-python",
   "name": "python",
   "nbconvert_exporter": "python",
   "pygments_lexer": "ipython3",
   "version": "3.9.5"
  }
 },
 "nbformat": 4,
 "nbformat_minor": 4
}
