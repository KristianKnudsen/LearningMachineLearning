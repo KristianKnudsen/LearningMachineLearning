{
 "cells": [
  {
   "cell_type": "raw",
   "metadata": {},
   "source": [
    "1: Filen \"Personer.dta\" skal leses inn i en list persons. Filen inneholder 100 000 rader med fiktive personalia på formatet \"etternavn;fornavn;adresse;postnummer;poststed\". Dette skal gjøres i native Python, dvs. Numpy/Pandas eller andre libs skal ikke brukes. Legg hver rad inn i en passende datastruktur, feks. tuple, dict, list eller namedtuple. Skriv så ut de 5 siste radene i en celle."
   ]
  },
  {
   "cell_type": "code",
   "execution_count": 7,
   "metadata": {},
   "outputs": [],
   "source": [
    "class Person():\n",
    "    def __init__(self, etternavn, fornavn, adresse, postnummer, poststed):\n",
    "        self.etternavn = etternavn\n",
    "        self.fornavn = fornavn\n",
    "        self.adresse = adresse\n",
    "        self.postnummer = postnummer\n",
    "        self.poststed = poststed\n",
    "        \n",
    "    def __str__(self):\n",
    "        return f\"{self.etternavn};{self.fornavn};{self.adresse};{self.postnummer};{self.poststed}\""
   ]
  },
  {
   "cell_type": "code",
   "execution_count": 40,
   "metadata": {},
   "outputs": [
    {
     "name": "stdout",
     "output_type": "stream",
     "text": [
      "STORLIEN;HANS-MAGNUS;TALLSLETTA 57;3849;VRÅLIOSEN\n",
      "ASAIPPILLAI;JO GUDBRAND;BERGERUD 68;4371;EGERSUND\n",
      "TOLLEFSEN;ZULFIQAR ALI;EIRIK JARLS GATE 79;1305;HASLUM\n",
      "ELI;KNUT OLAF;RUSTAD S 14;9775;GAMVIK\n",
      "NYRUD;ERIK NORØ;GJERDHAUGVEGEN 3;6512;KRISTIANSUND N\n"
     ]
    }
   ],
   "source": [
    "persons = []\n",
    "with open(\"Personer.dta\") as file:\n",
    "    for line in file:\n",
    "        a = line.strip().split(\";\")\n",
    "        persons.append(Person(*a))\n",
    "\n",
    "for x in persons[-5:]:\n",
    "    print(x)"
   ]
  },
  {
   "cell_type": "raw",
   "metadata": {},
   "source": [
    "2: Hvor mange unike postnummer finnes i \"Personer.dta\"?"
   ]
  },
  {
   "cell_type": "code",
   "execution_count": 46,
   "metadata": {},
   "outputs": [
    {
     "data": {
      "text/plain": [
       "2824"
      ]
     },
     "execution_count": 46,
     "metadata": {},
     "output_type": "execute_result"
    }
   ],
   "source": [
    "len(set([x.postnummer for x in persons]))"
   ]
  },
  {
   "cell_type": "raw",
   "metadata": {},
   "source": [
    "3: Hva er de 10 vanligste etternavnene (som forekommer flest ganger) i \"Personer.dta\"?"
   ]
  },
  {
   "cell_type": "code",
   "execution_count": 153,
   "metadata": {},
   "outputs": [
    {
     "data": {
      "text/plain": [
       "[{'ÅSBAKK': 82},\n",
       " {'BERGERSEN': 77},\n",
       " {'DANIELSEN': 76},\n",
       " {'LUTHER': 76},\n",
       " {'TRANE': 76},\n",
       " {'LUNDBERGSEN': 76},\n",
       " {'MJØEN': 75},\n",
       " {'LAM': 74},\n",
       " {'KRANGSÅS': 74},\n",
       " {'IGLAND': 74}]"
      ]
     },
     "execution_count": 153,
     "metadata": {},
     "output_type": "execute_result"
    }
   ],
   "source": [
    "#Takes a list and counts number of appearances in form of a dictonary. Key=element Value=appearances\n",
    "def appearances_in_list(list) -> dict:\n",
    "    appearances = dict()\n",
    "    for x in list:\n",
    "        try:\n",
    "            appearances[x] += 1\n",
    "        except:\n",
    "            appearances[x] = 0\n",
    "    return appearances\n",
    "    \n",
    "#Baiscally selection sort if n=len(dict)\n",
    "def n_biggest_keys(dict, n=1) -> list:\n",
    "    if n < 1:\n",
    "        return []\n",
    "    else:\n",
    "        biggest = max_dict(dict)\n",
    "        k = dict.pop(biggest)\n",
    "        n -= 1\n",
    "        return [{biggest: k}] + n_biggest_keys(dict, n)\n",
    "\n",
    "#Finds the largest value from the dictonary and returns the key of said value. \n",
    "def max_dict(dict) -> str:\n",
    "    biggest = list(dict)[0]\n",
    "    for x in dict:\n",
    "        if dict.get(x) > dict.get(biggest):\n",
    "            biggest = x\n",
    "    return biggest\n",
    "\n",
    "#finds n most common class attributes in a list and returns a list containing sorted dictonaries.\n",
    "def mcail(list, attribute, n) -> list:\n",
    "    list_of_attributes = [getattr(x,attribute) for x in list]\n",
    "    apps = appearances_in_list(list_of_attributes)\n",
    "    return n_biggest_keys(apps, n)\n",
    "\n",
    "mcail(persons, \"etternavn\", 10)"
   ]
  },
  {
   "cell_type": "raw",
   "metadata": {},
   "source": [
    "4: Implementer sorteringsalgoritmen Heap Sort og sorter listen \"persons\" utfra rekkefølgen radene er lest inn i. Ferdig implementerte funksjoner som sorted skal ikke benyttes. Skriv så ut indexene [0,20000,40000,60000,80000] fra den sorterte listen."
   ]
  },
  {
   "cell_type": "code",
   "execution_count": null,
   "metadata": {},
   "outputs": [],
   "source": [
    "#kode her"
   ]
  }
 ],
 "metadata": {
  "kernelspec": {
   "display_name": "Python 3 (ipykernel)",
   "language": "python",
   "name": "python3"
  },
  "language_info": {
   "codemirror_mode": {
    "name": "ipython",
    "version": 3
   },
   "file_extension": ".py",
   "mimetype": "text/x-python",
   "name": "python",
   "nbconvert_exporter": "python",
   "pygments_lexer": "ipython3",
   "version": "3.9.5"
  }
 },
 "nbformat": 4,
 "nbformat_minor": 4
}
