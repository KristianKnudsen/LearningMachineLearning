{
 "cells": [
  {
   "cell_type": "raw",
   "metadata": {},
   "source": [
    "1: Lag en Iterator Class som kan skrive ut Fibonacci-tallene mellom 0 og 1000"
   ]
  },
  {
   "cell_type": "code",
   "execution_count": 1,
   "metadata": {},
   "outputs": [],
   "source": [
    "class Fibonacci:\n",
    "    def __init__(self):\n",
    "        self.current = 0\n",
    "        self.next = 1 \n",
    "        \n",
    "    def __iter__(self):\n",
    "        return self\n",
    "        \n",
    "    def __next__(self):\n",
    "        if self.current <= 1000:\n",
    "            temp = self.current\n",
    "            self.current = self.next\n",
    "            self.next += temp\n",
    "            return temp\n",
    "        else:\n",
    "            raise StopIteration"
   ]
  },
  {
   "cell_type": "code",
   "execution_count": 2,
   "metadata": {
    "scrolled": true
   },
   "outputs": [
    {
     "data": {
      "text/plain": [
       "[0, 1, 1, 2, 3, 5, 8, 13, 21, 34, 55, 89, 144, 233, 377, 610, 987]"
      ]
     },
     "execution_count": 2,
     "metadata": {},
     "output_type": "execute_result"
    }
   ],
   "source": [
    "list(Fibonacci())"
   ]
  },
  {
   "cell_type": "raw",
   "metadata": {},
   "source": [
    "[0, 1, 1, 2, 3, 5, 8, 13, 21, 34, 55, 89, 144, 233, 377, 610, 987] #forventet output for oppgave 1"
   ]
  },
  {
   "cell_type": "raw",
   "metadata": {},
   "source": [
    "2: Lag en Generator Function som skriver ut Fibonacci-tallene mellom 0 og 1000"
   ]
  },
  {
   "cell_type": "code",
   "execution_count": 3,
   "metadata": {},
   "outputs": [
    {
     "data": {
      "text/plain": [
       "[0, 1, 1, 2, 3, 5, 8, 13, 21, 34, 55, 89, 144, 233, 377, 610, 987]"
      ]
     },
     "execution_count": 3,
     "metadata": {},
     "output_type": "execute_result"
    }
   ],
   "source": [
    "def generate_fib(upto=1000):\n",
    "    current = 0\n",
    "    next = 1\n",
    "    while current <= upto:\n",
    "        yield current\n",
    "        temp = current\n",
    "        current = next\n",
    "        next += temp\n",
    "\n",
    "list(generate_fib())"
   ]
  },
  {
   "cell_type": "raw",
   "metadata": {},
   "source": [
    "[0, 1, 1, 2, 3, 5, 8, 13, 21, 34, 55, 89, 144, 233, 377, 610, 987] #forventet output for oppgave 2"
   ]
  },
  {
   "cell_type": "raw",
   "metadata": {},
   "source": [
    "3: Lag en Class NewInt som arver fra int. Den skal ha en Instance Method is_fibonacci() som returnerer True om tallet er et Fibonacci-tall, False hvis ikke. Generer en liste med NewInt fra 0 til 1000. Lag så en List Comprehension som kun beholder tallene som er Fibonacci ved hjelp av klassen og instansmetoden du lagde."
   ]
  },
  {
   "cell_type": "code",
   "execution_count": 4,
   "metadata": {},
   "outputs": [],
   "source": [
    "class NewInt(int):\n",
    "    def is_fibonacci(self):\n",
    "        i = iter(Fibonacci())\n",
    "        if int(self) in i:\n",
    "            return True\n",
    "        else:\n",
    "            return False\n",
    "\n",
    "numbers = []\n",
    "counter = 0\n",
    "while counter <= 1000:\n",
    "    numbers.append(NewInt(counter))\n",
    "    counter += 1\n",
    "\n",
    "fib_in_numbers = [x for x in numbers if x.is_fibonacci()]"
   ]
  },
  {
   "cell_type": "code",
   "execution_count": 5,
   "metadata": {},
   "outputs": [
    {
     "name": "stdout",
     "output_type": "stream",
     "text": [
      "[0, 1, 2, 3, 5, 8, 13, 21, 34, 55, 89, 144, 233, 377, 610, 987]\n"
     ]
    }
   ],
   "source": [
    "print(fib_in_numbers)"
   ]
  },
  {
   "cell_type": "raw",
   "metadata": {},
   "source": [
    "[0, 1, 2, 3, 5, 8, 13, 21, 34, 55, 89, 144, 233, 377, 610, 987] #forventet output for oppgave 3"
   ]
  },
  {
   "cell_type": "raw",
   "metadata": {},
   "source": [
    "4: Lag en liste int_list med NewInt fra 0 til 100 000. Lag deretter et set() fib_set med Fibonacci-tallene mellom 0 og 100 000 med fremgangsmåte du selv velger. Lag en List Comprehension som sjekker int_list mot fib_set. Sammenlign deretter performance mot klassen og metoden du lagde i oppgave 3 for å se hva som er raskest.  Tips: Sjekk performance med %%timeit i en notebook-celle."
   ]
  },
  {
   "cell_type": "code",
   "execution_count": 6,
   "metadata": {},
   "outputs": [],
   "source": [
    "int_list = []\n",
    "counter = 0\n",
    "while counter <= 100000:\n",
    "    int_list.append(NewInt(counter))\n",
    "    counter += 1\n",
    "    \n",
    "fibset = set()\n",
    "for x in generate_fib(100000):\n",
    "    fibset.add(x)\n",
    "\n",
    "fib_in_intlist = [int_list[x] for x in int_list if x in fibset]"
   ]
  },
  {
   "cell_type": "code",
   "execution_count": 7,
   "metadata": {},
   "outputs": [
    {
     "name": "stdout",
     "output_type": "stream",
     "text": [
      "[0, 1, 2, 3, 5, 8, 13, 21, 34, 55, 89, 144, 233, 377, 610, 987, 1597, 2584, 4181, 6765, 10946, 17711, 28657, 46368, 75025]\n"
     ]
    }
   ],
   "source": [
    "print(fib_in_intlist)"
   ]
  },
  {
   "cell_type": "code",
   "execution_count": 8,
   "metadata": {},
   "outputs": [],
   "source": [
    "#Oppgave 3 brukte rundt 10ms på å sjekke fibonacci opp til 1000 mens oppgave 4 brukte 30ms på å sjekke 100000 tall. \n",
    "#Hvis vi ser bort fra at kalkulasjonen vil ta eksponentielt lengre tid er vår metode i oppgave 4 fortsatt raskere. \n",
    "#Den brukte 3 ganger lengre tid på å sjekke 100 ganger flere tall noe som uten tvil gjør den raskere enn metoden i oppgave 3. \n",
    "#En grunn at det blir slik kan være at metoden i oppgave 3 må genere fibonacci tall for hvert tall som sjekkes mens oppgave 4 \n",
    "#bare sammenlikner mot et allrede generert set med fibonacci tall. "
   ]
  },
  {
   "cell_type": "code",
   "execution_count": null,
   "metadata": {},
   "outputs": [],
   "source": []
  }
 ],
 "metadata": {
  "kernelspec": {
   "display_name": "Python 3 (ipykernel)",
   "language": "python",
   "name": "python3"
  },
  "language_info": {
   "codemirror_mode": {
    "name": "ipython",
    "version": 3
   },
   "file_extension": ".py",
   "mimetype": "text/x-python",
   "name": "python",
   "nbconvert_exporter": "python",
   "pygments_lexer": "ipython3",
   "version": "3.9.5"
  }
 },
 "nbformat": 4,
 "nbformat_minor": 4
}
