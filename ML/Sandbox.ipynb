{
 "cells": [
  {
   "cell_type": "code",
   "execution_count": 1,
   "id": "c94cbdee",
   "metadata": {},
   "outputs": [],
   "source": [
    "import random"
   ]
  },
  {
   "cell_type": "code",
   "execution_count": 3,
   "id": "057ab160-50a5-4bd4-ae98-5d3827500b7f",
   "metadata": {},
   "outputs": [],
   "source": [
    "r = random.random()"
   ]
  },
  {
   "cell_type": "code",
   "execution_count": 4,
   "id": "a5358b5c-ce7e-4e0d-b60e-7e3c81a15bd3",
   "metadata": {},
   "outputs": [
    {
     "data": {
      "text/plain": [
       "float"
      ]
     },
     "execution_count": 4,
     "metadata": {},
     "output_type": "execute_result"
    }
   ],
   "source": [
    "type(r)"
   ]
  },
  {
   "cell_type": "code",
   "execution_count": 5,
   "id": "938bb7d2-cf34-4a48-9c26-af01157bc922",
   "metadata": {},
   "outputs": [],
   "source": [
    "import matplotlib.pyplot as plt"
   ]
  },
  {
   "cell_type": "code",
   "execution_count": 6,
   "id": "46284e24-9aac-4e84-b786-db4d3a72499d",
   "metadata": {},
   "outputs": [
    {
     "data": {
      "text/plain": [
       "<module 'matplotlib.pyplot' from 'C:\\\\Users\\\\kskdu\\\\miniconda3\\\\lib\\\\site-packages\\\\matplotlib\\\\pyplot.py'>"
      ]
     },
     "execution_count": 6,
     "metadata": {},
     "output_type": "execute_result"
    }
   ],
   "source": [
    "plt"
   ]
  },
  {
   "cell_type": "code",
   "execution_count": 7,
   "id": "ccc2e641-1432-4acd-a5be-aa507f5c7b40",
   "metadata": {},
   "outputs": [],
   "source": [
    "import numpy as np"
   ]
  },
  {
   "cell_type": "code",
   "execution_count": 8,
   "id": "d690b70b-0e26-427e-a2a0-1ef666b8e49f",
   "metadata": {},
   "outputs": [],
   "source": [
    "rnd = np.random.uniform(-5,5, (1000,2))"
   ]
  },
  {
   "cell_type": "code",
   "execution_count": 9,
   "id": "43bd372c-a4b6-41c1-a0e3-39df4adbe12e",
   "metadata": {},
   "outputs": [
    {
     "data": {
      "text/plain": [
       "array([[-1.60136112, -0.38647199],\n",
       "       [-4.26063285, -2.28529579],\n",
       "       [ 0.97945796, -2.83367101],\n",
       "       ...,\n",
       "       [-0.03058615, -0.28504683],\n",
       "       [ 1.27105011, -4.78711041],\n",
       "       [-0.11244243, -3.61319155]])"
      ]
     },
     "execution_count": 9,
     "metadata": {},
     "output_type": "execute_result"
    }
   ],
   "source": [
    "rnd"
   ]
  },
  {
   "cell_type": "code",
   "execution_count": 10,
   "id": "b87a17ea-bc66-4551-a14b-f018b74e199f",
   "metadata": {},
   "outputs": [
    {
     "data": {
      "text/plain": [
       "1000"
      ]
     },
     "execution_count": 10,
     "metadata": {},
     "output_type": "execute_result"
    }
   ],
   "source": [
    "len(rnd)"
   ]
  },
  {
   "cell_type": "code",
   "execution_count": 11,
   "id": "7cb3f438-51e9-4e83-97a0-33a19f94c597",
   "metadata": {},
   "outputs": [
    {
     "name": "stdout",
     "output_type": "stream",
     "text": [
      "Hei eg heitar Kristian Knudsen. Kva heitar du?\n"
     ]
    }
   ],
   "source": [
    "print(\"Hei eg heitar Kristian Knudsen. Kva heitar du?\")"
   ]
  },
  {
   "cell_type": "code",
   "execution_count": 1,
   "id": "e52f274b-9ccf-4a99-b6db-1af8d6667545",
   "metadata": {},
   "outputs": [],
   "source": [
    "import time"
   ]
  },
  {
   "cell_type": "code",
   "execution_count": 3,
   "id": "29bbec62-2342-4b15-9453-d09a9b5afa59",
   "metadata": {},
   "outputs": [],
   "source": [
    "start_time = time.time()"
   ]
  },
  {
   "cell_type": "code",
   "execution_count": 4,
   "id": "91b42bdf-9bb9-421f-8b0d-0fb6af93dd87",
   "metadata": {},
   "outputs": [
    {
     "name": "stdout",
     "output_type": "stream",
     "text": [
      "hello\n"
     ]
    }
   ],
   "source": [
    "print(\"hello\")"
   ]
  },
  {
   "cell_type": "code",
   "execution_count": null,
   "id": "ef924ba2-6888-4662-b6f3-13422974a34c",
   "metadata": {},
   "outputs": [],
   "source": []
  }
 ],
 "metadata": {
  "kernelspec": {
   "display_name": "Python 3 (ipykernel)",
   "language": "python",
   "name": "python3"
  },
  "language_info": {
   "codemirror_mode": {
    "name": "ipython",
    "version": 3
   },
   "file_extension": ".py",
   "mimetype": "text/x-python",
   "name": "python",
   "nbconvert_exporter": "python",
   "pygments_lexer": "ipython3",
   "version": "3.9.5"
  }
 },
 "nbformat": 4,
 "nbformat_minor": 5
}
